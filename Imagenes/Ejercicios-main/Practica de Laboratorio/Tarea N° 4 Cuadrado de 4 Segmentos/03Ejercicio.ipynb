{
 "cells": [
  {
   "cell_type": "markdown",
   "metadata": {},
   "source": [
    "Cuadrado de Cuadro Segmentos"
   ]
  },
  {
   "cell_type": "code",
   "execution_count": 2,
   "metadata": {},
   "outputs": [
    {
     "data": {
      "image/png": "[encoded data removed]",
      "text/plain": [
       "<Figure size 640x480 with 1 Axes>"
      ]
     },
     "metadata": {},
     "output_type": "display_data"
    }
   ],
   "source": [
    "import matplotlib.pyplot as plt\n",
    "import numpy as np\n",
    "import cv2\n",
    "segment_tamanio = 100\n",
    "color_cuadr = np.zeros((segment_tamanio * 2, segment_tamanio * 2, 3), dtype=np.uint8)\n",
    "\n",
    "color_cuadr[:segment_tamanio, :segment_tamanio] = [255, 0, 0]  # Rojo\n",
    "color_cuadr[:segment_tamanio, segment_tamanio:] = [0, 255, 0]  # Verde\n",
    "color_cuadr[segment_tamanio:, segment_tamanio:] = [0, 0, 255]  # Azul\n",
    "color_cuadr[segment_tamanio:, :segment_tamanio] = [0, 0, 0]    # Negro\n",
    "\n",
    "# Guardar la imagen\n",
    "cv2.imwrite('Colores_cuadrados.png', cv2.cvtColor(color_cuadr, cv2.COLOR_RGB2BGR))\n",
    "plt.imshow(color_cuadr)\n",
    "plt.axis('off')\n",
    "plt.show()"
   ]
  }
 ],
 "metadata": {
  "kernelspec": {
   "display_name": "Practica",
   "language": "python",
   "name": "python3"
  },
  "language_info": {
   "codemirror_mode": {
    "name": "ipython",
    "version": 3
   },
   "file_extension": ".py",
   "mimetype": "text/x-python",
   "name": "python",
   "nbconvert_exporter": "python",
   "pygments_lexer": "ipython3",
   "version": "3.10.16"
  }
 },
 "nbformat": 4,
 "nbformat_minor": 2
}
