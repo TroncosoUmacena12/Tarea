{
 "cells": [
  {
   "cell_type": "markdown",
   "metadata": {},
   "source": [
    "Crear array de 10 números aleatorios entre 1 y 100"
   ]
  },
  {
   "cell_type": "code",
   "execution_count": 7,
   "metadata": {},
   "outputs": [
    {
     "name": "stdout",
     "output_type": "stream",
     "text": [
      "Array: [ 33  64  64  16  71  54  66 100  74  30]\n",
      "Máximo: 100\n",
      "Mínimo: 16\n",
      "Media: 57.2\n"
     ]
    }
   ],
   "source": [
    "\n",
    "import numpy as np\n",
    "\n",
    "arr = np.random.randint(1, 101, 10)\n",
    "\n",
    "max_value = np.max(arr)\n",
    "min_value = np.min(arr)\n",
    "mean_value = np.mean(arr)\n",
    "\n",
    "print(\"Array:\", arr)\n",
    "print(\"Máximo:\", max_value)\n",
    "print(\"Mínimo:\", min_value)\n",
    "print(\"Media:\", mean_value)"
   ]
  },
  {
   "cell_type": "markdown",
   "metadata": {},
   "source": [
    "Crear dos arrays de 5 elementos"
   ]
  },
  {
   "cell_type": "code",
   "execution_count": null,
   "metadata": {},
   "outputs": [
    {
     "name": "stdout",
     "output_type": "stream",
     "text": [
      "Array A: [28 34  5  9 19]\n",
      "Array B: [14  9 49 27  4]\n",
      "Suma: [42 43 54 36 23]\n",
      "Resta: [ 14  25 -44 -18  15]\n",
      "Producto: [392 306 245 243  76]\n",
      "División: [2.         3.77777778 0.10204082 0.33333333 4.75      ]\n"
     ]
    }
   ],
   "source": [
    "\n",
    "a = np.random.randint(1, 51, 5)\n",
    "b = np.random.randint(1, 51, 5)\n",
    "\n",
    "suma = a + b\n",
    "resta = a - b\n",
    "producto = a * b\n",
    "division = a / b\n",
    "\n",
    "print(\"Array A:\", a)\n",
    "print(\"Array B:\", b)\n",
    "print(\"Suma:\", suma)\n",
    "print(\"Resta:\", resta)\n",
    "print(\"Producto:\", producto)\n",
    "print(\"División:\", division)\n"
   ]
  },
  {
   "cell_type": "markdown",
   "metadata": {},
   "source": [
    "Crear matriz identidad 5x5"
   ]
  },
  {
   "cell_type": "code",
   "execution_count": null,
   "metadata": {},
   "outputs": [
    {
     "name": "stdout",
     "output_type": "stream",
     "text": [
      "Matriz modificada:\n",
      " [[1. 0. 0. 0. 7.]\n",
      " [0. 1. 0. 7. 0.]\n",
      " [0. 0. 7. 0. 0.]\n",
      " [0. 7. 0. 1. 0.]\n",
      " [7. 0. 0. 0. 1.]]\n"
     ]
    }
   ],
   "source": [
    "\n",
    "import numpy as np\n",
    "\n",
    "matriz = np.eye(5)\n",
    "\n",
    "np.fill_diagonal(np.fliplr(matriz), 7)\n",
    "\n",
    "print(\"Matriz modificada:\\n\", matriz)\n"
   ]
  },
  {
   "cell_type": "markdown",
   "metadata": {},
   "source": [
    "Crear array de 20 valores aleatorios entre 1 y 100"
   ]
  },
  {
   "cell_type": "code",
   "execution_count": null,
   "metadata": {},
   "outputs": [
    {
     "name": "stdout",
     "output_type": "stream",
     "text": [
      "Array original: [31 43 16 18 83 72 47 10 17 61 67 51 25 85 45 58 63 50 10  1]\n",
      "Valores mayores a 50: [83 72 61 67 51 85 58 63]\n"
     ]
    }
   ],
   "source": [
    "\n",
    "numeros = np.random.randint(1, 101, 20)\n",
    "\n",
    "mayores_50 = numeros[numeros > 50]\n",
    "\n",
    "print(\"Array original:\", numeros)\n",
    "print(\"Valores mayores a 50:\", mayores_50)\n"
   ]
  },
  {
   "cell_type": "markdown",
   "metadata": {},
   "source": [
    "Función que genere los primeros n números de la secuencia de Fibonacci"
   ]
  },
  {
   "cell_type": "code",
   "execution_count": null,
   "metadata": {},
   "outputs": [
    {
     "name": "stdout",
     "output_type": "stream",
     "text": [
      "Fibonacci (10 términos): [ 0  1  1  2  3  5  8 13 21 34]\n"
     ]
    }
   ],
   "source": [
    "\n",
    "def fibonacci(n):\n",
    "    fib = np.zeros(n, dtype=int)\n",
    "    fib[0], fib[1] = 0, 1  # Primeros dos valores\n",
    "    \n",
    "    for i in range(2, n):\n",
    "        fib[i] = fib[i - 1] + fib[i - 2]\n",
    "    \n",
    "    return fib\n",
    "\n",
    "print(\"Fibonacci (10 términos):\", fibonacci(10))\n"
   ]
  }
 ],
 "metadata": {
  "kernelspec": {
   "display_name": "Practica",
   "language": "python",
   "name": "python3"
  },
  "language_info": {
   "codemirror_mode": {
    "name": "ipython",
    "version": 3
   },
   "file_extension": ".py",
   "mimetype": "text/x-python",
   "name": "python",
   "nbconvert_exporter": "python",
   "pygments_lexer": "ipython3",
   "version": "3.10.16"
  }
 },
 "nbformat": 4,
 "nbformat_minor": 2
}
